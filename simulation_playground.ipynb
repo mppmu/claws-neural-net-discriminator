{
 "cells": [
  {
   "cell_type": "markdown",
   "metadata": {},
   "source": [
    "# Notebook for developing code to simulate the SiPM pulses"
   ]
  },
  {
   "cell_type": "code",
   "execution_count": 1,
   "metadata": {},
   "outputs": [],
   "source": [
    "import os\n",
    "import numpy as np\n",
    "import pandas as pd\n",
    "from scipy import signal\n",
    "\n",
    "np.random.seed(0)"
   ]
  },
  {
   "cell_type": "code",
   "execution_count": 246,
   "metadata": {},
   "outputs": [],
   "source": [
    "# class Particle:\n",
    "#     \"\"\" \"\"\"\n",
    "#     def __init__(self, type: str = 'MIP', pos: np.array = np.zeros(4), velocity: np.array = np.zeros(3)):\n",
    "#         self.type     = type\n",
    "#         self.pos      = pos\n",
    "#         self.velocity = velocity\n",
    "#         self.energy   = None\n",
    "    \n",
    "    \n",
    "#     def __repr__(self):\n",
    "#         return \"<Particle type: %s, pos: %s, velocity: %s, energy: %s>\" % (self.type, self.pos, self.velocity, self.energy)\n",
    "    \n",
    "#     def get_type(self):\n",
    "#         return self.type\n",
    "    \n",
    "#     def get_pos(self):\n",
    "#         return self.pos\n",
    "# class MIP(Particle):\n",
    "    \n",
    "    \n",
    "# class Photon(Particle):\n",
    "    "
   ]
  },
  {
   "cell_type": "code",
   "execution_count": 247,
   "metadata": {},
   "outputs": [
    {
     "data": {
      "text/plain": [
       "6.704441920416511e-07"
      ]
     },
     "execution_count": 247,
     "metadata": {},
     "output_type": "execute_result"
    }
   ],
   "source": [
    "np.random.uniform(0.1e-6, 0.9e-6)"
   ]
  },
  {
   "cell_type": "code",
   "execution_count": 299,
   "metadata": {},
   "outputs": [],
   "source": [
    "class ParticleGun:\n",
    "    \n",
    "    def __init__(self, ptype: int = 0):\n",
    "        self.ptype = ptype\n",
    "        self.t_dist = lambda n = 1: np.random.uniform(0.25e-6, 0.75e-6) if n is 1 else np.random.uniform(0.25e-6, 0.75e-6, n)\n",
    "        \n",
    "    def generate(self, n: int = 1) -> np.ndarray:\n",
    "        \"\"\" \n",
    "        Generates a new particle represented by a numpy.ndarray of length 10:\n",
    "            [0]: particle_idx\n",
    "            [1]: mother_idx\n",
    "            [2]: Particle type, 0 = MIP, 10 = scintillation photon\n",
    "            [3]: x\n",
    "            [4]: y\n",
    "            [5]: z\n",
    "            [6]: t\n",
    "            [7]: v_x\n",
    "            [8]: v_y\n",
    "            [9]: v_z\n",
    "        \"\"\"\n",
    "        particles = np.zeros((n,10))\n",
    "        particles[:,0] += np.arange(n)\n",
    "        particles[:,6] += self.t_dist(n)\n",
    "\n",
    "        return particles"
   ]
  },
  {
   "cell_type": "code",
   "execution_count": 300,
   "metadata": {},
   "outputs": [],
   "source": [
    "class Scintillator():\n",
    "    \n",
    "    def __init__(self):\n",
    "\n",
    "#         self.t_dist = lambda : np.random.normal(5e-9, 1e-9)\n",
    "        self.t_dist = lambda : 1e-9\n",
    "        self.n_dist = lambda : 1\n",
    "            \n",
    "    def generate(self, primaries: np.ndarray)-> np.ndarray:\n",
    "        \n",
    "        idx = max(primaries[:,0])\n",
    "        \n",
    "        photons = np.zeros((0,10))\n",
    "        \n",
    "        for primary in primaries:\n",
    "            n_daughters = self.n_dist()\n",
    "            for _ in range(n_daughters):\n",
    "                idx += 1\n",
    "                photon = np.zeros(10)\n",
    "                photon[0] = idx\n",
    "                photon[1] = primary[0]\n",
    "                photon[6] = primary[6] + self.t_dist()\n",
    "                photons = np.vstack([photons,photon])\n",
    "        \n",
    "        return photons\n",
    "        "
   ]
  },
  {
   "cell_type": "code",
   "execution_count": 301,
   "metadata": {},
   "outputs": [
    {
     "data": {
      "text/plain": [
       "array([7.63960965e-09, 8.10692611e-09])"
      ]
     },
     "execution_count": 301,
     "metadata": {},
     "output_type": "execute_result"
    }
   ],
   "source": [
    "t_dist = lambda n = 1: np.random.uniform(0, 10e-9) if n is 1 else np.random.uniform(0, 10e-9, n)\n",
    "t_dist(2)"
   ]
  },
  {
   "cell_type": "code",
   "execution_count": 302,
   "metadata": {},
   "outputs": [
    {
     "data": {
      "text/plain": [
       "10000.0"
      ]
     },
     "execution_count": 302,
     "metadata": {},
     "output_type": "execute_result"
    }
   ],
   "source": [
    "length    = 10  # 1 micro second waveforms \n",
    "sampling  = 1e-3 # aka 10 ps\n",
    "\n",
    "length/sampling"
   ]
  },
  {
   "cell_type": "code",
   "execution_count": 303,
   "metadata": {},
   "outputs": [],
   "source": [
    "class WaveformGenerator():\n",
    "    \n",
    "    def __init__(self, length: np.double = 1e-6, precision: np.double = 10e-12):\n",
    "        self.length    = length  # 1 micro second waveforms \n",
    "        self.precision  = precision # aka 10 ps \n",
    "    \n",
    "    def generate(self):\n",
    "        \n",
    "        n_samples = int(self.length/self.precision)\n",
    "        \n",
    "        return np.zeros(n_samples)"
   ]
  },
  {
   "cell_type": "code",
   "execution_count": 304,
   "metadata": {},
   "outputs": [],
   "source": [
    "class SiPM():\n",
    "    \n",
    "    def __init__(self, precision: np.double = 10e-12 ):\n",
    "        self.qe                   = 1.0\n",
    "        self.dist_delay           = lambda : 0.5e-9\n",
    "        self.precision            = precision\n",
    "#         self.pulse_length         = 250e-8\n",
    "        self.pulse_length = int(250e-9/self.precision)\n",
    "        \n",
    "    def generate(self, waveform: np.ndarray, photons: np.ndarray)-> np.ndarray:\n",
    "        \n",
    "        for photon in photons:\n",
    "            if np.random.uniform() < self.qe:\n",
    "                t = photon[6] + self.dist_delay()\n",
    "                t_idx = int(t/self.precision)\n",
    "                pulse = self.generate_pulse()\n",
    "                waveform[t_idx:t_idx + pulse.shape[0]] += pulse\n",
    "                \n",
    "        return waveform\n",
    "\n",
    "    def generate_pulse(self)-> np.ndarray:\n",
    "        pulse = signal.unit_impulse(self.pulse_length, 0)\n",
    "#         pulse = np.zeros(int(self.pulse_length/self.sampling))\n",
    "        \n",
    "        return pulse\n"
   ]
  },
  {
   "cell_type": "code",
   "execution_count": 305,
   "metadata": {},
   "outputs": [
    {
     "data": {
      "text/plain": [
       "10"
      ]
     },
     "execution_count": 305,
     "metadata": {},
     "output_type": "execute_result"
    }
   ],
   "source": [
    "# def test(arr: np.ndarray):\n",
    "#     arr[0:4] += 5\n",
    "#     return arr\n",
    "\n",
    "# arr = np.zeros(10)\n",
    "\n",
    "# test(arr)\n",
    "\n",
    "arr = np.zeros(10)\n",
    "arr[1:4] += np.ones(3) \n",
    "arr.shape[0]"
   ]
  },
  {
   "cell_type": "code",
   "execution_count": 306,
   "metadata": {},
   "outputs": [],
   "source": [
    "class Electronics():\n",
    "    \n",
    "    def __init__(self):\n",
    "\n",
    "        self.amp        = 8.9\n",
    "        self.pedestal   = 0.5 \n",
    "\n",
    "    def generate(self, sipm_wf: np.ndarray)-> np.ndarray:\n",
    "        \n",
    "        # Amplifier\n",
    "        sipm_wf *= self.amp\n",
    "        \n",
    "        # Add noise: mean, standard deviation and number of samples\n",
    "        mu, sigma, n = 0, 0.25, sipm_wf.shape[0] # \n",
    "        sipm_wf     += np.random.normal(mu, sigma, n)\n",
    "        \n",
    "        return sipm_wf"
   ]
  },
  {
   "cell_type": "code",
   "execution_count": 307,
   "metadata": {},
   "outputs": [],
   "source": [
    "class Digitizer():\n",
    "    \n",
    "    def __init__(self, precision: np.double = 10e-12,\n",
    "                 sampling: np.double        = 0.8e-9,\n",
    "                 res: np.double             = 2**8,\n",
    "                 vert_range: np.double      = 0.1 ):\n",
    "        \n",
    "        self.precision = precision\n",
    "        self.sampling = sampling\n",
    "        self.res = res\n",
    "        self.vert_range = vert_range\n",
    "        \n",
    "    def generate(self, electronics_wf: np.ndarray)-> np.ndarray:\n",
    "        \n",
    "        \n",
    "        digitzed_wf = np.zeros()\n",
    "        \n",
    "        return electronics_wf"
   ]
  },
  {
   "cell_type": "code",
   "execution_count": 308,
   "metadata": {},
   "outputs": [],
   "source": [
    "class Event():\n",
    "\n",
    "    def __init__(self, idx: int = -1):\n",
    "        \n",
    "        self.evt_idx      = idx\n",
    "        self.primaries    = []\n",
    "        self.photons      = []\n",
    "        self.wf           = None\n",
    "        self.sipm_wf      = None\n",
    "        self.elec_wf      = None\n",
    "        self.digitized_wf = None\n",
    "        \n",
    "        columns = ['primaries_file',\n",
    "                   'scintillation_photons_file',\n",
    "                   'digitized_wf_file',\n",
    "                   'n_particles',\n",
    "                   'n_photons']\n",
    "        \n",
    "        data    = [str(self.evt_idx).zfill(7) + '_primaries.csv',\n",
    "                   str(self.evt_idx).zfill(7) + '_scintillation_photons.csv',\n",
    "                   str(self.evt_idx).zfill(7) + '_digitzed_wf.csv',\n",
    "                   np.nan,\n",
    "                   np.nan]\n",
    "        \n",
    "        self.meta    = pd.Series(data, index = columns) \n",
    "    \n",
    "    def get_meta(self):\n",
    "        return self.meta\n",
    "    \n",
    "    def set_primaries(self, primaries):\n",
    "        self.primaries = primaries\n",
    "    \n",
    "    def get_primaries(self):\n",
    "        return self.primaries\n",
    "    \n",
    "    def set_photons(self, photons):\n",
    "        self.photons = photons\n",
    "    \n",
    "    def get_photons(self):\n",
    "        return self.photons\n",
    "    \n",
    "    def set_wf(self, wf):\n",
    "        self.wf = wf\n",
    "    \n",
    "    def get_wf(self):\n",
    "        return self.wf\n",
    "    \n",
    "    def set_sipm_wf(self, sipm_wf):\n",
    "        self.sipm_wf = sipm_wf\n",
    "    \n",
    "    def get_sipm_wf(self):\n",
    "        return self.sipm_wf\n",
    "    \n",
    "    def set_elec_wf(self, elec_wf):\n",
    "        self.elec_wf = elec_wf\n",
    "    \n",
    "    def get_elec_wf(self):\n",
    "        return self.elec_wf\n",
    "    \n",
    "    def set_digitized_wf(self, digitized_wf):\n",
    "        self.digitized_wf = digitized_wf\n",
    "    \n",
    "    def get_digitized_wf(self):\n",
    "        return self.digitized_wf\n",
    "\n",
    "    def save_event(self, root_dir: str):\n",
    "        \"\"\" Save primary particles and scintillation photons in separate files.\"\"\"\n",
    "        \n",
    "        columns = ['particle_idx',\n",
    "                   'mother_idx',\n",
    "                   'type',\n",
    "                   'x',\n",
    "                   'y',\n",
    "                   'z',\n",
    "                   't',\n",
    "                   'v_x',\n",
    "                   'v_y',\n",
    "                   'v_z']\n",
    "        \n",
    "        # Store the primary particles\n",
    "        primaries_df = pd.DataFrame(columns = columns)\n",
    "        \n",
    "        for primary in self.primaries:\n",
    "            se = pd.Series(primary, index = columns)\n",
    "            primaries_df = primaries_df.append(se, ignore_index=True)\n",
    "\n",
    "        primaries_df.to_csv(os.path.join(root_dir, self.meta['primaries_file']))\n",
    "        \n",
    "        # Store the scintillation photons\n",
    "        photons_df = pd.DataFrame(columns = columns)\n",
    "        \n",
    "        for photon in self.photons:\n",
    "            se = pd.Series(photon, index = columns)\n",
    "            photons_df = photons_df.append(se, ignore_index=True)\n",
    "\n",
    "        photons_df.to_csv(os.path.join(root_dir, self.meta['scintillation_photons_file']))\n",
    "        \n",
    "        # Store the waveforms\n",
    "        \n",
    "        \n",
    "        "
   ]
  },
  {
   "cell_type": "code",
   "execution_count": 309,
   "metadata": {},
   "outputs": [],
   "source": [
    "class SimulationHandler:\n",
    "    \n",
    "    def __init__(self):\n",
    "        \n",
    "        self.idx          = -1\n",
    "        self.primary_gun  = ParticleGun(ptype=0)\n",
    "        self.scintillator = Scintillator()\n",
    "        self.wf_generator = WaveformGenerator()\n",
    "        self.sipm         = SiPM()\n",
    "        self.electronics  = Electronics()\n",
    "        self.digitizer    = Digitizer()\n",
    "        \n",
    "        self.events = []\n",
    "        \n",
    "        columns = ['primaries_file',\n",
    "                   'scintillation_photons_file',\n",
    "                   'digitized_wf_file',\n",
    "                   'n_particles',\n",
    "                   'n_photons']\n",
    "        \n",
    "        self.events_df = pd.DataFrame(columns = columns)\n",
    "    \n",
    "    def simulate_event(self):\n",
    "        \n",
    "        self.idx      += 1\n",
    "        event          = Event(self.idx)\n",
    "        \n",
    "        primaries      = self.primary_gun.generate(n=1)\n",
    "        event.set_primaries(primaries)\n",
    "        \n",
    "        photons        = self.scintillator.generate(primaries)\n",
    "        event.set_photons(photons)\n",
    "        \n",
    "        wf             = self.wf_generator.generate()\n",
    "        sipm_wf        = self.sipm.generate(wf, photons)\n",
    "        electronics_wf = self.electronics.generate(sipm_wf)\n",
    "        digitized_wf   = self.digitizer.generate(electronics_wf)\n",
    "        event.set_digitized_wf(digitized_wf)\n",
    "        \n",
    "        self.events.append(event)\n",
    "        \n",
    "        return electronics_wf\n",
    "\n",
    "        \n",
    "#     def simulate_and_save_event(self):\n",
    "    \"\"\" TODO IMPLEMENT\"\"\"\n",
    "    \n",
    "    \n",
    "    def save_events(self, root_dir):\n",
    "        \n",
    "        for event in self.events:\n",
    "            \n",
    "            meta = event.get_meta()\n",
    "            \n",
    "            # save particle_file\n",
    "            # save photon_file\n",
    "            # save waveform_file\n",
    "            self.events_df = self.events_df.append(meta, ignore_index=True)\n",
    "            event.save_event(root_dir)\n",
    "            \n",
    "        self.events_df.to_csv(os.path.join(root_dir,'test.csv'))\n",
    "             "
   ]
  },
  {
   "cell_type": "code",
   "execution_count": 310,
   "metadata": {},
   "outputs": [],
   "source": [
    "handler = SimulationHandler()\n",
    "\n",
    "handler.simulate_event()\n",
    "# handler.simulate_event()\n",
    "\n",
    "# handler.events[1].primaries\n",
    "handler.save_events(r'C:\\Users\\Miroslav Gabriel\\Workspace\\claws-neural-net-discriminator\\data\\test')"
   ]
  },
  {
   "cell_type": "code",
   "execution_count": 311,
   "metadata": {},
   "outputs": [],
   "source": [
    "import matplotlib.pyplot as plt\n",
    "\n",
    "handler = SimulationHandler()\n",
    "\n",
    "wf = handler.simulate_event()"
   ]
  },
  {
   "cell_type": "code",
   "execution_count": 312,
   "metadata": {},
   "outputs": [
    {
     "data": {
      "image/png": "[encoded data removed]",
      "text/plain": [
       "<Figure size 1152x648 with 1 Axes>"
      ]
     },
     "metadata": {
      "needs_background": "light"
     },
     "output_type": "display_data"
    }
   ],
   "source": [
    "plt.figure(figsize=(16, 9))\n",
    "\n",
    "plt.plot(np.arange(0, len(wf)), wf )\n",
    "\n",
    "plt.margins(0.1, 0.1)\n",
    "plt.xlabel('Time [samples]')\n",
    "plt.ylabel('Amplitude')\n",
    "plt.grid(True)\n",
    "# plt.xlim(3.23e4, 3.26e4)\n",
    "plt.show()"
   ]
  },
  {
   "cell_type": "code",
   "execution_count": null,
   "metadata": {},
   "outputs": [],
   "source": []
  },
  {
   "cell_type": "code",
   "execution_count": null,
   "metadata": {},
   "outputs": [],
   "source": []
  }
 ],
 "metadata": {
  "kernelspec": {
   "display_name": "Python 3",
   "language": "python",
   "name": "python3"
  },
  "language_info": {
   "codemirror_mode": {
    "name": "ipython",
    "version": 3
   },
   "file_extension": ".py",
   "mimetype": "text/x-python",
   "name": "python",
   "nbconvert_exporter": "python",
   "pygments_lexer": "ipython3",
   "version": "3.7.1"
  }
 },
 "nbformat": 4,
 "nbformat_minor": 4
}
