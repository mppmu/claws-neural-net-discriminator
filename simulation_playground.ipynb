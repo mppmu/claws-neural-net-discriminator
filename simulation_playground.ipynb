{
 "cells": [
  {
   "cell_type": "markdown",
   "metadata": {},
   "source": [
    "# Notebook for developing code to simulate the SiPM pulses"
   ]
  },
  {
   "cell_type": "code",
   "execution_count": 1,
   "metadata": {},
   "outputs": [],
   "source": [
    "import os\n",
    "import numpy as np\n",
    "import pandas as pd\n",
    "\n",
    "np.random.seed(0)"
   ]
  },
  {
   "cell_type": "code",
   "execution_count": 2,
   "metadata": {},
   "outputs": [],
   "source": [
    "# class Particle:\n",
    "#     \"\"\" \"\"\"\n",
    "#     def __init__(self, type: str = 'MIP', pos: np.array = np.zeros(4), velocity: np.array = np.zeros(3)):\n",
    "#         self.type     = type\n",
    "#         self.pos      = pos\n",
    "#         self.velocity = velocity\n",
    "#         self.energy   = None\n",
    "    \n",
    "    \n",
    "#     def __repr__(self):\n",
    "#         return \"<Particle type: %s, pos: %s, velocity: %s, energy: %s>\" % (self.type, self.pos, self.velocity, self.energy)\n",
    "    \n",
    "#     def get_type(self):\n",
    "#         return self.type\n",
    "    \n",
    "#     def get_pos(self):\n",
    "#         return self.pos\n",
    "# class MIP(Particle):\n",
    "    \n",
    "    \n",
    "# class Photon(Particle):\n",
    "    "
   ]
  },
  {
   "cell_type": "code",
   "execution_count": 3,
   "metadata": {},
   "outputs": [
    {
     "data": {
      "text/plain": [
       "numpy.ndarray"
      ]
     },
     "execution_count": 3,
     "metadata": {},
     "output_type": "execute_result"
    }
   ],
   "source": [
    "type(np.zeros(8))"
   ]
  },
  {
   "cell_type": "code",
   "execution_count": 91,
   "metadata": {},
   "outputs": [],
   "source": [
    "class ParticleGun:\n",
    "    \n",
    "    def __init__(self, ptype: int = 0):\n",
    "        self.ptype = ptype\n",
    "        self.t_range = (0.1e-6,0.9e-6) # ie time range in seconds\n",
    "        self.t_dist = np.random.uniform\n",
    "        \n",
    "    def generate(self, n: int = 1) -> np.ndarray:\n",
    "        \"\"\" \n",
    "        Generates a new particle represented by a numpy.ndarray of length 8:\n",
    "            [0]: Particle type, 0 = MIP, 10 = scintillation photon\n",
    "            [1]: x\n",
    "            [2]: y\n",
    "            [3]: z\n",
    "            [4]: t\n",
    "            [5]: v_x\n",
    "            [6]: v_y\n",
    "            [7]: v_z\n",
    "        \"\"\"\n",
    "        particles = np.zeros((n,8))\n",
    "        particles[:,4] = self.t_dist(self.t_range[0], self.t_range[1], n)\n",
    "            \n",
    "#             with np.nditer(particles, op_flags=['readwrite']) as it:\n",
    "#                 for particle in it:\n",
    "#                     particle = self.generate_single_particle()\n",
    "        return particles\n",
    "        \n",
    "#     def generate(self, n: int = 1):\n",
    "#         if n is 1:\n",
    "#             return self.generate_single_particle()\n",
    "#         else:\n",
    "#             particles = np.zeros((n,8))\n",
    "#             with np.nditer(particles, op_flags=['readwrite']) as it:\n",
    "#                 for particle in it:\n",
    "#                     particle = self.generate_single_particle()\n",
    "#             return particles        \n",
    "#     def generate_particles(self):\n",
    "#           return [self.generate_particle() for _ in range(self.n)]"
   ]
  },
  {
   "cell_type": "code",
   "execution_count": 92,
   "metadata": {},
   "outputs": [
    {
     "data": {
      "text/plain": [
       "numpy.ndarray"
      ]
     },
     "execution_count": 92,
     "metadata": {},
     "output_type": "execute_result"
    }
   ],
   "source": [
    "type(np.random.uniform(0,20,4))"
   ]
  },
  {
   "cell_type": "code",
   "execution_count": 94,
   "metadata": {},
   "outputs": [
    {
     "name": "stdout",
     "output_type": "stream",
     "text": [
      "[0.00000000e+00 0.00000000e+00 0.00000000e+00 0.00000000e+00\n",
      " 1.35689841e-07 0.00000000e+00 0.00000000e+00 0.00000000e+00]\n"
     ]
    }
   ],
   "source": [
    "mip_gun = ParticleGun()\n",
    "particles = mip_gun.generate(1)\n",
    "\n",
    "for particle in particles:\n",
    "    print(particle)\n",
    "# %timeit gun.generate_particles()"
   ]
  },
  {
   "cell_type": "code",
   "execution_count": 66,
   "metadata": {},
   "outputs": [
    {
     "data": {
      "text/plain": [
       "array([[0.],\n",
       "       [0.]])"
      ]
     },
     "execution_count": 66,
     "metadata": {},
     "output_type": "execute_result"
    }
   ],
   "source": [
    "np.zeros((2, 1))"
   ]
  },
  {
   "cell_type": "code",
   "execution_count": 67,
   "metadata": {},
   "outputs": [
    {
     "ename": "IndentationError",
     "evalue": "expected an indented block (<ipython-input-67-26d696cf7230>, line 5)",
     "output_type": "error",
     "traceback": [
      "\u001b[1;36m  File \u001b[1;32m\"<ipython-input-67-26d696cf7230>\"\u001b[1;36m, line \u001b[1;32m5\u001b[0m\n\u001b[1;33m    def generate_particle(self) -> np.ndarray:\u001b[0m\n\u001b[1;37m      ^\u001b[0m\n\u001b[1;31mIndentationError\u001b[0m\u001b[1;31m:\u001b[0m expected an indented block\n"
     ]
    }
   ],
   "source": [
    "class Scintillator():\n",
    "    \n",
    "    def __init__():\n",
    "        \n",
    "    def generate_particle(self) -> np.ndarray:\n",
    "        \n",
    "        return photons"
   ]
  },
  {
   "cell_type": "code",
   "execution_count": 68,
   "metadata": {},
   "outputs": [
    {
     "ename": "SyntaxError",
     "evalue": "unexpected EOF while parsing (<ipython-input-68-02aa63da5058>, line 2)",
     "output_type": "error",
     "traceback": [
      "\u001b[1;36m  File \u001b[1;32m\"<ipython-input-68-02aa63da5058>\"\u001b[1;36m, line \u001b[1;32m2\u001b[0m\n\u001b[1;33m    \u001b[0m\n\u001b[1;37m    ^\u001b[0m\n\u001b[1;31mSyntaxError\u001b[0m\u001b[1;31m:\u001b[0m unexpected EOF while parsing\n"
     ]
    }
   ],
   "source": [
    "class SiPM():\n",
    "    "
   ]
  },
  {
   "cell_type": "code",
   "execution_count": 69,
   "metadata": {},
   "outputs": [
    {
     "ename": "SyntaxError",
     "evalue": "unexpected EOF while parsing (<ipython-input-69-888878041caa>, line 2)",
     "output_type": "error",
     "traceback": [
      "\u001b[1;36m  File \u001b[1;32m\"<ipython-input-69-888878041caa>\"\u001b[1;36m, line \u001b[1;32m2\u001b[0m\n\u001b[1;33m    \u001b[0m\n\u001b[1;37m    ^\u001b[0m\n\u001b[1;31mSyntaxError\u001b[0m\u001b[1;31m:\u001b[0m unexpected EOF while parsing\n"
     ]
    }
   ],
   "source": [
    "class Electronics():\n",
    "    "
   ]
  },
  {
   "cell_type": "code",
   "execution_count": 70,
   "metadata": {},
   "outputs": [
    {
     "ename": "SyntaxError",
     "evalue": "unexpected EOF while parsing (<ipython-input-70-55dd2924e582>, line 1)",
     "output_type": "error",
     "traceback": [
      "\u001b[1;36m  File \u001b[1;32m\"<ipython-input-70-55dd2924e582>\"\u001b[1;36m, line \u001b[1;32m1\u001b[0m\n\u001b[1;33m    class Digitizer():\u001b[0m\n\u001b[1;37m                      ^\u001b[0m\n\u001b[1;31mSyntaxError\u001b[0m\u001b[1;31m:\u001b[0m unexpected EOF while parsing\n"
     ]
    }
   ],
   "source": [
    "class Digitizer():"
   ]
  },
  {
   "cell_type": "code",
   "execution_count": 102,
   "metadata": {},
   "outputs": [],
   "source": [
    "class Event():\n",
    "\n",
    "    def __init__(self, idx: int = -1):\n",
    "        self.idx = idx\n",
    "        self.primaries = []\n",
    "        self.scintillation_photons = []\n",
    "        self.sipm_waveform = None\n",
    "        self.electronics_waveform = None\n",
    "        self.digitized_waveform = None\n",
    "        \n",
    "        columns = ['primaries_file',\n",
    "                   'scintillation_photons_file',\n",
    "                   'digitized_wf_file',\n",
    "                   'n_particles',\n",
    "                   'n_photons']\n",
    "        \n",
    "        data    = [str(self.idx).zfill(7) + '_primaries.csv',\n",
    "                   str(self.idx).zfill(7) + '_scintillation_photons.csv',\n",
    "                   str(self.idx).zfill(7) + '_digitzed_wf.csv',\n",
    "                   np.nan,\n",
    "                   np.nan]\n",
    "        \n",
    "        self.meta    = pd.Series(data, index = columns) \n",
    "    \n",
    "    def get_meta(self):\n",
    "        \n",
    "        return self.meta\n",
    "    \n",
    "    def set_primaries(self, primaries):\n",
    "        self.primaries = primaries\n",
    "    \n",
    "    def get_primaries(self):\n",
    "        return self.particles\n",
    "\n",
    "    def save_event(self, root_dir: str):\n",
    "        \"\"\" save primary particles in separate file \"\"\"\n",
    "\n",
    "        df = pd.DataFrame(columns = ['type',\n",
    "                                     'x',\n",
    "                                     'y',\n",
    "                                     'z',\n",
    "                                     't',\n",
    "                                     'v_x',\n",
    "                                     'v_y',\n",
    "                                     'v_z'])\n",
    "\n",
    "        for primary in self.primaries:\n",
    "            se = pd.Series(primary, index = df.columns)\n",
    "            df = df.append(se, ignore_index=True)\n",
    "\n",
    "        df.to_csv(os.path.join(root_dir, self.meta['primaries_file']))\n",
    "        \n",
    "        "
   ]
  },
  {
   "cell_type": "code",
   "execution_count": 107,
   "metadata": {},
   "outputs": [],
   "source": [
    "class SimulationHandler:\n",
    "    \n",
    "    def __init__(self):\n",
    "        \n",
    "        self.idx          = -1\n",
    "        self.primary_gun = ParticleGun(ptype=0)\n",
    "        self.scintillator = None\n",
    "        self.sipm         = None \n",
    "        self.electronics  = None\n",
    "        self.digitizer    = None\n",
    "        \n",
    "        self.events = []\n",
    "        self.events_df = pd.DataFrame(columns = ['particle_file',\n",
    "                                                 'photon_file',\n",
    "                                                 'digitized_wf_file',\n",
    "                                                 'n_particles',\n",
    "                                                 'n_photons'])\n",
    "    \n",
    "    def simulate_event(self):\n",
    "        \n",
    "        self.idx += 1\n",
    "        event = Event(self.idx)\n",
    "        primaries = self.primary_gun.generate(n=1)\n",
    "        event.set_primaries(primaries)\n",
    "        \n",
    "        \n",
    "        self.events.append(event)\n",
    "        \n",
    "\n",
    "        \n",
    "#     def simulate_and_save_event(self):\n",
    "    \"\"\" TODO IMPLEMENT\"\"\"\n",
    "    \n",
    "    \n",
    "    def save_events(self, root_dir):\n",
    "        \n",
    "        for event in self.events:\n",
    "            \n",
    "            meta = event.get_meta()\n",
    "            \n",
    "            # save particle_file\n",
    "            # save photon_file\n",
    "            # save waveform_file\n",
    "            self.events_df = self.events_df.append(meta, ignore_index=True)\n",
    "            event.save_event(root_dir)\n",
    "            \n",
    "        self.events_df.to_csv(os.path.join(root_dir,'test.csv'))\n",
    "             "
   ]
  },
  {
   "cell_type": "code",
   "execution_count": 108,
   "metadata": {},
   "outputs": [],
   "source": [
    "handler = SimulationHandler()\n",
    "\n",
    "handler.simulate_event()\n",
    "handler.simulate_event()\n",
    "\n",
    "# handler.events[1].primaries\n",
    "handler.save_events(r'C:\\Users\\Miroslav Gabriel\\Workspace\\claws-neural-net-discriminator\\data\\test')"
   ]
  },
  {
   "cell_type": "code",
   "execution_count": null,
   "metadata": {},
   "outputs": [],
   "source": []
  },
  {
   "cell_type": "code",
   "execution_count": null,
   "metadata": {},
   "outputs": [],
   "source": []
  },
  {
   "cell_type": "code",
   "execution_count": null,
   "metadata": {},
   "outputs": [],
   "source": []
  }
 ],
 "metadata": {
  "kernelspec": {
   "display_name": "Python 3",
   "language": "python",
   "name": "python3"
  },
  "language_info": {
   "codemirror_mode": {
    "name": "ipython",
    "version": 3
   },
   "file_extension": ".py",
   "mimetype": "text/x-python",
   "name": "python",
   "nbconvert_exporter": "python",
   "pygments_lexer": "ipython3",
   "version": "3.7.1"
  }
 },
 "nbformat": 4,
 "nbformat_minor": 4
}
