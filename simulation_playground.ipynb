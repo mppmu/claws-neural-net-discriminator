{
 "cells": [
  {
   "cell_type": "markdown",
   "metadata": {},
   "source": [
    "# Notebook for developing code to simulate the SiPM pulses"
   ]
  },
  {
   "cell_type": "code",
   "execution_count": 1,
   "metadata": {},
   "outputs": [],
   "source": [
    "import os\n",
    "import numpy as np\n",
    "import pandas as pd\n",
    "from scipy import signal\n",
    "\n",
    "np.random.seed(0)"
   ]
  },
  {
   "cell_type": "code",
   "execution_count": 2,
   "metadata": {},
   "outputs": [],
   "source": [
    "# class Particle:\n",
    "#     \"\"\" \"\"\"\n",
    "#     def __init__(self, type: str = 'MIP', pos: np.array = np.zeros(4), velocity: np.array = np.zeros(3)):\n",
    "#         self.type     = type\n",
    "#         self.pos      = pos\n",
    "#         self.velocity = velocity\n",
    "#         self.energy   = None\n",
    "    \n",
    "    \n",
    "#     def __repr__(self):\n",
    "#         return \"<Particle type: %s, pos: %s, velocity: %s, energy: %s>\" % (self.type, self.pos, self.velocity, self.energy)\n",
    "    \n",
    "#     def get_type(self):\n",
    "#         return self.type\n",
    "    \n",
    "#     def get_pos(self):\n",
    "#         return self.pos\n",
    "# class MIP(Particle):\n",
    "    \n",
    "    \n",
    "# class Photon(Particle):\n",
    "    "
   ]
  },
  {
   "cell_type": "code",
   "execution_count": 3,
   "metadata": {},
   "outputs": [
    {
     "data": {
      "text/plain": [
       "5.390508031418598e-07"
      ]
     },
     "execution_count": 3,
     "metadata": {},
     "output_type": "execute_result"
    }
   ],
   "source": [
    "np.random.uniform(0.1e-6, 0.9e-6)"
   ]
  },
  {
   "cell_type": "code",
   "execution_count": 4,
   "metadata": {},
   "outputs": [],
   "source": [
    "class ParticleGun:\n",
    "    \n",
    "    def __init__(self, ptype: int = 0):\n",
    "        self.ptype = ptype\n",
    "        self.t_dist = lambda n = 1: np.random.uniform(0.25e-6, 0.75e-6) if n is 1 else np.random.uniform(0.25e-6, 0.75e-6, n)\n",
    "        \n",
    "    def generate(self, n: int = 1) -> np.ndarray:\n",
    "        \"\"\" \n",
    "        Generates a new particle represented by a numpy.ndarray of length 10:\n",
    "            [0]: particle_idx\n",
    "            [1]: mother_idx\n",
    "            [2]: Particle type, 0 = MIP, 10 = scintillation photon\n",
    "            [3]: x\n",
    "            [4]: y\n",
    "            [5]: z\n",
    "            [6]: t\n",
    "            [7]: v_x\n",
    "            [8]: v_y\n",
    "            [9]: v_z\n",
    "        \"\"\"\n",
    "        particles = np.zeros((n,10))\n",
    "        particles[:,0] += np.arange(n)\n",
    "        particles[:,6] += self.t_dist(n)\n",
    "\n",
    "        return particles"
   ]
  },
  {
   "cell_type": "code",
   "execution_count": 5,
   "metadata": {},
   "outputs": [],
   "source": [
    "class Scintillator():\n",
    "    \n",
    "    def __init__(self):\n",
    "\n",
    "#         self.t_dist = lambda : np.random.normal(5e-9, 1e-9)\n",
    "        self.t_dist = lambda : 1e-9\n",
    "        self.n_dist = lambda : 1\n",
    "            \n",
    "    def generate(self, primaries: np.ndarray)-> np.ndarray:\n",
    "        \n",
    "        idx = max(primaries[:,0])\n",
    "        \n",
    "        photons = np.zeros((0,10))\n",
    "        \n",
    "        for primary in primaries:\n",
    "            n_daughters = self.n_dist()\n",
    "            for _ in range(n_daughters):\n",
    "                idx += 1\n",
    "                photon = np.zeros(10)\n",
    "                photon[0] = idx\n",
    "                photon[1] = primary[0]\n",
    "                photon[6] = primary[6] + self.t_dist()\n",
    "                photons = np.vstack([photons,photon])\n",
    "        \n",
    "        return photons\n",
    "        "
   ]
  },
  {
   "cell_type": "code",
   "execution_count": 6,
   "metadata": {},
   "outputs": [
    {
     "data": {
      "text/plain": [
       "array([7.15189366e-09, 6.02763376e-09])"
      ]
     },
     "execution_count": 6,
     "metadata": {},
     "output_type": "execute_result"
    }
   ],
   "source": [
    "t_dist = lambda n = 1: np.random.uniform(0, 10e-9) if n is 1 else np.random.uniform(0, 10e-9, n)\n",
    "t_dist(2)"
   ]
  },
  {
   "cell_type": "code",
   "execution_count": 7,
   "metadata": {},
   "outputs": [
    {
     "data": {
      "text/plain": [
       "10000.0"
      ]
     },
     "execution_count": 7,
     "metadata": {},
     "output_type": "execute_result"
    }
   ],
   "source": [
    "length    = 10  # 1 micro second waveforms \n",
    "sampling  = 1e-3 # aka 10 ps\n",
    "\n",
    "length/sampling"
   ]
  },
  {
   "cell_type": "code",
   "execution_count": 8,
   "metadata": {},
   "outputs": [],
   "source": [
    "class WaveformGenerator():\n",
    "    \n",
    "    def __init__(self, length: np.double = 1e-6, precision: np.double = 10e-12):\n",
    "        self.length    = length  # 1 micro second waveforms \n",
    "        self.precision  = precision # aka 10 ps \n",
    "    \n",
    "    def generate(self):\n",
    "        \n",
    "        n_samples = int(self.length/self.precision)\n",
    "        \n",
    "        return np.zeros(n_samples)"
   ]
  },
  {
   "cell_type": "code",
   "execution_count": 57,
   "metadata": {},
   "outputs": [],
   "source": [
    "class SiPM():\n",
    "    \n",
    "    def __init__(self, precision: np.double = 10e-12 ):\n",
    "        self.qe                   = 1.0\n",
    "        self.dist_delay           = lambda : 0.5e-9\n",
    "        self.precision            = precision\n",
    "#         self.pulse_length         = 250e-8\n",
    "        self.pulse_length = int(250e-9/self.precision)\n",
    "        \n",
    "    def generate(self, waveform: np.ndarray, photons: np.ndarray)-> np.ndarray:\n",
    "        \n",
    "        for photon in photons:\n",
    "            if np.random.uniform() < self.qe:\n",
    "                delay = self.dist_delay()\n",
    "                t = photon[6] + delay\n",
    "                t_idx = int(t/self.precision)\n",
    "                pulse = self.generate_pulse()\n",
    "                \n",
    "                # only add full pulse if length does not exceed length of waveform\n",
    "                try:\n",
    "                    if t_idx + pulse.shape[0] < waveform.shape[0]:\n",
    "                        waveform[t_idx:t_idx + pulse.shape[0]] += pulse\n",
    "\n",
    "                    else:\n",
    "                        waveform[t_idx:] += pulse[:waveform.shape[0] - t_idx]\n",
    "                    \n",
    "                    \n",
    "                except ValueError:\n",
    "                    print('Idx exceeds length of waveform!')\n",
    "                    print('photon[6]: ', str(photon[6]))\n",
    "                    print('delay: ', str(delay))\n",
    "                    print('t_idx: ', str(t_idx))\n",
    "                    print(' t: ', str( t))\n",
    "                    print('t_idx + pulse.shape[0]: ', str(t_idx + pulse.shape[0]))\n",
    "                    print('pulse.shape[0]: ', str(pulse.shape[0]))\n",
    "                    print('waveform.shape[0]: ', str(waveform.shape[0]))\n",
    "                    \n",
    "        return waveform\n",
    "\n",
    "    def generate_pulse(self)-> np.ndarray:\n",
    "#        pulse = signal.unit_impulse(self.pulse_length, 0)\n",
    "#         pulse = np.zeros(int(self.pulse_length/self.sampling))\n",
    "        pulse = np.zeros(self.pulse_length)\n",
    "        pulse[100:1100] += 0.5\n",
    "        return pulse\n"
   ]
  },
  {
   "cell_type": "code",
   "execution_count": 58,
   "metadata": {},
   "outputs": [
    {
     "data": {
      "text/plain": [
       "10"
      ]
     },
     "execution_count": 58,
     "metadata": {},
     "output_type": "execute_result"
    }
   ],
   "source": [
    "# def test(arr: np.ndarray):\n",
    "#     arr[0:4] += 5\n",
    "#     return arr\n",
    "\n",
    "# arr = np.zeros(10)\n",
    "\n",
    "# test(arr)\n",
    "\n",
    "arr = np.zeros(10)\n",
    "arr[1:4] += np.ones(3) \n",
    "arr.shape[0]"
   ]
  },
  {
   "cell_type": "code",
   "execution_count": 59,
   "metadata": {},
   "outputs": [],
   "source": [
    "class Electronics():\n",
    "    \n",
    "    def __init__(self):\n",
    "\n",
    "        self.amp        = 8.9\n",
    "        self.pedestal   = 0.5 \n",
    "\n",
    "    def generate(self, sipm_wf: np.ndarray)-> np.ndarray:\n",
    "        \n",
    "        # Amplifier\n",
    "        sipm_wf *= self.amp\n",
    "        \n",
    "        # Add noise: mean, standard deviation and number of samples\n",
    "        mu, sigma, n = 0, 0.25, sipm_wf.shape[0] # \n",
    "        sipm_wf     += np.random.normal(mu, sigma, n)\n",
    "        \n",
    "        return sipm_wf"
   ]
  },
  {
   "cell_type": "code",
   "execution_count": 60,
   "metadata": {},
   "outputs": [],
   "source": [
    "class Digitizer():\n",
    "    \n",
    "    def __init__(self, precision: np.double = 10e-12,\n",
    "                 sampling: np.double        = 0.8e-9,\n",
    "                 res: np.double             = 2**8,\n",
    "                 vert_range: np.double      = 0.1 ):\n",
    "        \n",
    "        self.precision = precision\n",
    "        self.sampling = sampling\n",
    "        self.down_sampling_factor = int(sampling/precision)\n",
    "        self.res = res\n",
    "        self.vert_range = vert_range\n",
    "        \n",
    "    def generate(self, electronics_wf: np.ndarray)-> np.ndarray:\n",
    "        \n",
    "        # First make it discrete in time\n",
    "        n_samples = int(electronics_wf.shape[0]/self.down_sampling_factor) \n",
    "\n",
    "        digitzed_wf = np.zeros(n_samples)\n",
    "\n",
    "        for i in range(n_samples):\n",
    "            digitzed_wf[i] = electronics_wf[i*self.down_sampling_factor]\n",
    "        \n",
    "        # Now make it discrete in voltage\n",
    "        \n",
    "        \n",
    "        return digitzed_wf"
   ]
  },
  {
   "cell_type": "code",
   "execution_count": 68,
   "metadata": {},
   "outputs": [],
   "source": [
    "class Event():\n",
    "\n",
    "    def __init__(self, idx: int = -1):\n",
    "        \n",
    "        self.evt_idx      = idx\n",
    "        self.primaries    = []\n",
    "        self.photons      = []\n",
    "        self.wf           = None\n",
    "        self.sipm_wf      = None\n",
    "        self.elec_wf      = None\n",
    "        self.digitized_wf = None\n",
    "        \n",
    "        columns = ['primaries_file',\n",
    "                   'scintillation_photons_file',\n",
    "                   'digitized_wf_file',\n",
    "                   'sim_version']\n",
    "        \n",
    "        data    = [str(self.evt_idx).zfill(7) + '_primaries.csv',\n",
    "                   str(self.evt_idx).zfill(7) + '_scintillation_photons.csv',\n",
    "                   str(self.evt_idx).zfill(7) + '_digitzed_wf.csv',\n",
    "                   'v0.1']\n",
    "        \n",
    "        self.meta    = pd.Series(data, index = columns) \n",
    "    \n",
    "    def get_meta(self):\n",
    "        return self.meta\n",
    "    \n",
    "    def set_primaries(self, primaries):\n",
    "        self.primaries = primaries\n",
    "    \n",
    "    def get_primaries(self):\n",
    "        return self.primaries\n",
    "    \n",
    "    def set_photons(self, photons):\n",
    "        self.photons = photons\n",
    "    \n",
    "    def get_photons(self):\n",
    "        return self.photons\n",
    "    \n",
    "    def set_wf(self, wf):\n",
    "        self.wf = wf\n",
    "    \n",
    "    def get_wf(self):\n",
    "        return self.wf\n",
    "    \n",
    "    def set_sipm_wf(self, sipm_wf):\n",
    "        self.sipm_wf = sipm_wf\n",
    "    \n",
    "    def get_sipm_wf(self):\n",
    "        return self.sipm_wf\n",
    "    \n",
    "    def set_elec_wf(self, elec_wf):\n",
    "        self.elec_wf = elec_wf\n",
    "    \n",
    "    def get_elec_wf(self):\n",
    "        return self.elec_wf\n",
    "    \n",
    "    def set_digitized_wf(self, digitized_wf):\n",
    "        self.digitized_wf = digitized_wf\n",
    "    \n",
    "    def get_digitized_wf(self):\n",
    "        return self.digitized_wf\n",
    "\n",
    "    def save_event(self, root_dir: str):\n",
    "        \"\"\" Save primary particles and scintillation photons in separate files.\"\"\"\n",
    "        \n",
    "        columns = ['particle_idx',\n",
    "                   'mother_idx',\n",
    "                   'type',\n",
    "                   'x',\n",
    "                   'y',\n",
    "                   'z',\n",
    "                   't',\n",
    "                   'v_x',\n",
    "                   'v_y',\n",
    "                   'v_z']\n",
    "        \n",
    "        # Store the primary particles\n",
    "        primaries_df = pd.DataFrame(columns = columns)\n",
    "        \n",
    "        for primary in self.primaries:\n",
    "            se = pd.Series(primary, index = columns)\n",
    "            primaries_df = primaries_df.append(se, ignore_index=True)\n",
    "\n",
    "        primaries_df.to_csv(os.path.join(root_dir, self.meta['primaries_file']))\n",
    "        \n",
    "        # Store the scintillation photons\n",
    "        photons_df = pd.DataFrame(columns = columns)\n",
    "        \n",
    "        for photon in self.photons:\n",
    "            se = pd.Series(photon, index = columns)\n",
    "            photons_df = photons_df.append(se, ignore_index=True)\n",
    "\n",
    "        photons_df.to_csv(os.path.join(root_dir, self.meta['scintillation_photons_file']))\n",
    "        \n",
    "        # Store the waveforms\n",
    "        np.savetxt(os.path.join(root_dir, self.meta['digitized_wf_file']), self.digitized_wf, delimiter=',')\n",
    "        \n",
    "        "
   ]
  },
  {
   "cell_type": "code",
   "execution_count": 69,
   "metadata": {},
   "outputs": [],
   "source": [
    "class SimulationHandler:\n",
    "    \n",
    "    def __init__(self):\n",
    "        \n",
    "        self.idx          = -1\n",
    "        self.primary_gun  = ParticleGun(ptype=0)\n",
    "        self.scintillator = Scintillator()\n",
    "        self.wf_generator = WaveformGenerator()\n",
    "        self.sipm         = SiPM()\n",
    "        self.electronics  = Electronics()\n",
    "        self.digitizer    = Digitizer()\n",
    "        \n",
    "        self.events = []\n",
    "        \n",
    "        columns = ['primaries_file',\n",
    "                   'scintillation_photons_file',\n",
    "                   'digitized_wf_file',\n",
    "                   'n_particles',\n",
    "                   'n_photons']\n",
    "        \n",
    "        self.events_df = pd.DataFrame(columns = columns)\n",
    "    \n",
    "    def simulate_event(self):\n",
    "        \n",
    "        self.idx      += 1\n",
    "        event          = Event(self.idx)\n",
    "        \n",
    "        primaries      = self.primary_gun.generate(n=1)\n",
    "        event.set_primaries(primaries)\n",
    "        \n",
    "        photons        = self.scintillator.generate(primaries)\n",
    "        event.set_photons(photons)\n",
    "        \n",
    "        wf             = self.wf_generator.generate()\n",
    "        sipm_wf        = self.sipm.generate(wf, photons)\n",
    "        electronics_wf = self.electronics.generate(sipm_wf)\n",
    "        digitized_wf   = self.digitizer.generate(electronics_wf)\n",
    "        event.set_digitized_wf(digitized_wf)\n",
    "        \n",
    "        self.events.append(event)\n",
    "\n",
    "    def simulate_events(self, n: int):\n",
    "        \n",
    "        for _ in range(n):\n",
    "            self.simulate_event()\n",
    "            \n",
    "        \n",
    "#     def simulate_and_save_event(self):\n",
    "    \"\"\" TODO IMPLEMENT\"\"\"\n",
    "    \n",
    "    \n",
    "    def save_events(self, root_dir):\n",
    "        \n",
    "        if not os.path.exists(root_dir):\n",
    "            os.makedirs(root_dir)\n",
    "            \n",
    "        for event in self.events:\n",
    "            \n",
    "            meta = event.get_meta()\n",
    "            \n",
    "            # save particle_file\n",
    "            # save photon_file\n",
    "            # save waveform_file\n",
    "            self.events_df = self.events_df.append(meta, ignore_index=True)\n",
    "            event.save_event(root_dir)  \n",
    "        \n",
    "        self.events_df.to_csv(os.path.join(root_dir, os.path.basename(root_dir) + '.csv'))\n",
    "             "
   ]
  },
  {
   "cell_type": "code",
   "execution_count": null,
   "metadata": {},
   "outputs": [],
   "source": [
    "handler = SimulationHandler()\n",
    "\n",
    "handler.simulate_events(10000)\n",
    "# handler.simulate_event()\n",
    "\n",
    "# handler.events[1].primaries\n",
    "handler.save_events(r'C:\\Users\\Miroslav Gabriel\\Workspace\\claws-neural-net-discriminator\\data\\square_pulse')"
   ]
  },
  {
   "cell_type": "code",
   "execution_count": 64,
   "metadata": {},
   "outputs": [],
   "source": [
    "import matplotlib.pyplot as plt\n",
    "\n",
    "handler = SimulationHandler()\n",
    "\n",
    "wf = handler.simulate_event()"
   ]
  },
  {
   "cell_type": "code",
   "execution_count": 65,
   "metadata": {},
   "outputs": [
    {
     "ename": "TypeError",
     "evalue": "object of type 'NoneType' has no len()",
     "output_type": "error",
     "traceback": [
      "\u001b[1;31m---------------------------------------------------------------------------\u001b[0m",
      "\u001b[1;31mTypeError\u001b[0m                                 Traceback (most recent call last)",
      "\u001b[1;32m<ipython-input-65-bf67369098e0>\u001b[0m in \u001b[0;36m<module>\u001b[1;34m\u001b[0m\n\u001b[0;32m      1\u001b[0m \u001b[0mplt\u001b[0m\u001b[1;33m.\u001b[0m\u001b[0mfigure\u001b[0m\u001b[1;33m(\u001b[0m\u001b[0mfigsize\u001b[0m\u001b[1;33m=\u001b[0m\u001b[1;33m(\u001b[0m\u001b[1;36m16\u001b[0m\u001b[1;33m,\u001b[0m \u001b[1;36m9\u001b[0m\u001b[1;33m)\u001b[0m\u001b[1;33m)\u001b[0m\u001b[1;33m\u001b[0m\u001b[1;33m\u001b[0m\u001b[0m\n\u001b[0;32m      2\u001b[0m \u001b[1;33m\u001b[0m\u001b[0m\n\u001b[1;32m----> 3\u001b[1;33m \u001b[0mplt\u001b[0m\u001b[1;33m.\u001b[0m\u001b[0mplot\u001b[0m\u001b[1;33m(\u001b[0m\u001b[0mnp\u001b[0m\u001b[1;33m.\u001b[0m\u001b[0marange\u001b[0m\u001b[1;33m(\u001b[0m\u001b[1;36m0\u001b[0m\u001b[1;33m,\u001b[0m \u001b[0mlen\u001b[0m\u001b[1;33m(\u001b[0m\u001b[0mwf\u001b[0m\u001b[1;33m)\u001b[0m\u001b[1;33m)\u001b[0m\u001b[1;33m,\u001b[0m \u001b[0mwf\u001b[0m \u001b[1;33m)\u001b[0m\u001b[1;33m\u001b[0m\u001b[1;33m\u001b[0m\u001b[0m\n\u001b[0m\u001b[0;32m      4\u001b[0m \u001b[1;33m\u001b[0m\u001b[0m\n\u001b[0;32m      5\u001b[0m \u001b[0mplt\u001b[0m\u001b[1;33m.\u001b[0m\u001b[0mmargins\u001b[0m\u001b[1;33m(\u001b[0m\u001b[1;36m0.1\u001b[0m\u001b[1;33m,\u001b[0m \u001b[1;36m0.1\u001b[0m\u001b[1;33m)\u001b[0m\u001b[1;33m\u001b[0m\u001b[1;33m\u001b[0m\u001b[0m\n",
      "\u001b[1;31mTypeError\u001b[0m: object of type 'NoneType' has no len()"
     ]
    },
    {
     "data": {
      "text/plain": [
       "<Figure size 1152x648 with 0 Axes>"
      ]
     },
     "metadata": {},
     "output_type": "display_data"
    }
   ],
   "source": [
    "plt.figure(figsize=(16, 9))\n",
    "\n",
    "plt.plot(np.arange(0, len(wf)), wf )\n",
    "\n",
    "plt.margins(0.1, 0.1)\n",
    "plt.xlabel('Time [samples]')\n",
    "plt.ylabel('Amplitude')\n",
    "plt.grid(True)\n",
    "# plt.xlim(3e4, 3.9e4)\n",
    "plt.xlim(850, 920)\n",
    "plt.show()"
   ]
  },
  {
   "cell_type": "code",
   "execution_count": 61,
   "metadata": {},
   "outputs": [
    {
     "data": {
      "text/plain": [
       "12"
      ]
     },
     "execution_count": 61,
     "metadata": {},
     "output_type": "execute_result"
    }
   ],
   "source": [
    "int(12.9)"
   ]
  },
  {
   "cell_type": "code",
   "execution_count": null,
   "metadata": {},
   "outputs": [],
   "source": []
  },
  {
   "cell_type": "code",
   "execution_count": null,
   "metadata": {},
   "outputs": [],
   "source": []
  },
  {
   "cell_type": "code",
   "execution_count": null,
   "metadata": {},
   "outputs": [],
   "source": []
  },
  {
   "cell_type": "code",
   "execution_count": null,
   "metadata": {},
   "outputs": [],
   "source": []
  }
 ],
 "metadata": {
  "kernelspec": {
   "display_name": "Python 3",
   "language": "python",
   "name": "python3"
  },
  "language_info": {
   "codemirror_mode": {
    "name": "ipython",
    "version": 3
   },
   "file_extension": ".py",
   "mimetype": "text/x-python",
   "name": "python",
   "nbconvert_exporter": "python",
   "pygments_lexer": "ipython3",
   "version": "3.7.1"
  }
 },
 "nbformat": 4,
 "nbformat_minor": 4
}
