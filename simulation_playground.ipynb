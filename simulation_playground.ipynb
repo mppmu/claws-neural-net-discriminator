{
 "cells": [
  {
   "cell_type": "markdown",
   "metadata": {},
   "source": [
    "# Notebook for developing code to simulate the SiPM pulses"
   ]
  },
  {
   "cell_type": "code",
   "execution_count": 1,
   "metadata": {},
   "outputs": [],
   "source": [
    "import os\n",
    "import numpy as np\n",
    "import pandas as pd\n",
    "\n",
    "np.random.seed(0)"
   ]
  },
  {
   "cell_type": "code",
   "execution_count": 2,
   "metadata": {},
   "outputs": [],
   "source": [
    "# class Particle:\n",
    "#     \"\"\" \"\"\"\n",
    "#     def __init__(self, type: str = 'MIP', pos: np.array = np.zeros(4), velocity: np.array = np.zeros(3)):\n",
    "#         self.type     = type\n",
    "#         self.pos      = pos\n",
    "#         self.velocity = velocity\n",
    "#         self.energy   = None\n",
    "    \n",
    "    \n",
    "#     def __repr__(self):\n",
    "#         return \"<Particle type: %s, pos: %s, velocity: %s, energy: %s>\" % (self.type, self.pos, self.velocity, self.energy)\n",
    "    \n",
    "#     def get_type(self):\n",
    "#         return self.type\n",
    "    \n",
    "#     def get_pos(self):\n",
    "#         return self.pos\n",
    "# class MIP(Particle):\n",
    "    \n",
    "    \n",
    "# class Photon(Particle):\n",
    "    "
   ]
  },
  {
   "cell_type": "code",
   "execution_count": 3,
   "metadata": {},
   "outputs": [
    {
     "data": {
      "text/plain": [
       "numpy.ndarray"
      ]
     },
     "execution_count": 3,
     "metadata": {},
     "output_type": "execute_result"
    }
   ],
   "source": [
    "type(np.zeros(8))"
   ]
  },
  {
   "cell_type": "code",
   "execution_count": 183,
   "metadata": {},
   "outputs": [],
   "source": [
    "class ParticleGun:\n",
    "    \n",
    "    def __init__(self, ptype: int = 0):\n",
    "        self.ptype = ptype\n",
    "        self.t_dist = lambda n = 1: np.random.uniform(0.1e-6, 0.9e-6) if n is 1 else np.random.uniform(0.1e-6, 0.9e-6, n)\n",
    "        \n",
    "    def generate(self, n: int = 1) -> np.ndarray:\n",
    "        \"\"\" \n",
    "        Generates a new particle represented by a numpy.ndarray of length 10:\n",
    "            [0]: particle_idx\n",
    "            [1]: mother_idx\n",
    "            [2]: Particle type, 0 = MIP, 10 = scintillation photon\n",
    "            [3]: x\n",
    "            [4]: y\n",
    "            [5]: z\n",
    "            [6]: t\n",
    "            [7]: v_x\n",
    "            [8]: v_y\n",
    "            [9]: v_z\n",
    "        \"\"\"\n",
    "        particles = np.zeros((n,10))\n",
    "        particles[:,0] += np.arange(n)\n",
    "        particles[:,6] += self.t_dist(n)\n",
    "\n",
    "        return particles"
   ]
  },
  {
   "cell_type": "code",
   "execution_count": 247,
   "metadata": {},
   "outputs": [],
   "source": [
    "class Scintillator():\n",
    "    \n",
    "    def __init__(self):\n",
    "\n",
    "        self.t_dist = lambda : 0\n",
    "        self.n_dist = lambda : 3  \n",
    "            \n",
    "    def generate(self, primaries: np.ndarray)-> np.ndarray:\n",
    "        \n",
    "        idx = max(primaries[:,0])\n",
    "        \n",
    "        photons = np.zeros((0,10))\n",
    "        \n",
    "        for primary in primaries:\n",
    "            n_daughters = self.n_dist()\n",
    "            for _ in range(n_daughters):\n",
    "                idx += 1\n",
    "                photon = np.zeros(10)\n",
    "                photon[0] = idx\n",
    "                photon[1] = primary[0]\n",
    "                photon[6] = primary[6] + self.t_dist()\n",
    "                photons = np.vstack([photons,photon])\n",
    "        \n",
    "        return photons\n",
    "        "
   ]
  },
  {
   "cell_type": "code",
   "execution_count": 248,
   "metadata": {},
   "outputs": [
    {
     "data": {
      "text/plain": [
       "array([1.52354706e-09, 4.17486375e-09])"
      ]
     },
     "execution_count": 248,
     "metadata": {},
     "output_type": "execute_result"
    }
   ],
   "source": [
    "t_dist = lambda n = 1: np.random.uniform(0, 10e-9) if n is 1 else np.random.uniform(0, 10e-9, n)\n",
    "t_dist(2)"
   ]
  },
  {
   "cell_type": "code",
   "execution_count": 249,
   "metadata": {},
   "outputs": [
    {
     "data": {
      "text/plain": [
       "array([[1, 2, 3],\n",
       "       [4, 5, 6],\n",
       "       [6, 5, 4]])"
      ]
     },
     "execution_count": 249,
     "metadata": {},
     "output_type": "execute_result"
    }
   ],
   "source": [
    "a = np.array([[1, 2, 3], [4, 5, 6]])\n",
    "b = np.array( [6, 5, 4])\n",
    "np.vstack([a,b])"
   ]
  },
  {
   "cell_type": "code",
   "execution_count": 266,
   "metadata": {},
   "outputs": [
    {
     "ename": "IndentationError",
     "evalue": "expected an indented block (<ipython-input-266-92595a8faac9>, line 6)",
     "output_type": "error",
     "traceback": [
      "\u001b[1;36m  File \u001b[1;32m\"<ipython-input-266-92595a8faac9>\"\u001b[1;36m, line \u001b[1;32m6\u001b[0m\n\u001b[1;33m    def generate(self, photons: np.ndarray)-> np.ndarray:\u001b[0m\n\u001b[1;37m      ^\u001b[0m\n\u001b[1;31mIndentationError\u001b[0m\u001b[1;31m:\u001b[0m expected an indented block\n"
     ]
    }
   ],
   "source": [
    "class SiPM():\n",
    "    \n",
    "    def __init__(self):\n",
    "        \n",
    "    def generate(self, photons: np.ndarray)-> np.ndarray:"
   ]
  },
  {
   "cell_type": "code",
   "execution_count": 251,
   "metadata": {},
   "outputs": [
    {
     "ename": "SyntaxError",
     "evalue": "unexpected EOF while parsing (<ipython-input-251-888878041caa>, line 2)",
     "output_type": "error",
     "traceback": [
      "\u001b[1;36m  File \u001b[1;32m\"<ipython-input-251-888878041caa>\"\u001b[1;36m, line \u001b[1;32m2\u001b[0m\n\u001b[1;33m    \u001b[0m\n\u001b[1;37m    ^\u001b[0m\n\u001b[1;31mSyntaxError\u001b[0m\u001b[1;31m:\u001b[0m unexpected EOF while parsing\n"
     ]
    }
   ],
   "source": [
    "class Electronics():\n",
    "    "
   ]
  },
  {
   "cell_type": "code",
   "execution_count": 252,
   "metadata": {},
   "outputs": [
    {
     "ename": "SyntaxError",
     "evalue": "unexpected EOF while parsing (<ipython-input-252-55dd2924e582>, line 1)",
     "output_type": "error",
     "traceback": [
      "\u001b[1;36m  File \u001b[1;32m\"<ipython-input-252-55dd2924e582>\"\u001b[1;36m, line \u001b[1;32m1\u001b[0m\n\u001b[1;33m    class Digitizer():\u001b[0m\n\u001b[1;37m                      ^\u001b[0m\n\u001b[1;31mSyntaxError\u001b[0m\u001b[1;31m:\u001b[0m unexpected EOF while parsing\n"
     ]
    }
   ],
   "source": [
    "class Digitizer():"
   ]
  },
  {
   "cell_type": "code",
   "execution_count": 263,
   "metadata": {},
   "outputs": [],
   "source": [
    "class Event():\n",
    "\n",
    "    def __init__(self, idx: int = -1):\n",
    "        \n",
    "        self.evt_idx = idx\n",
    "        self.primaries = []\n",
    "        self.scintillation_photons = []\n",
    "        self.sipm_waveform = None\n",
    "        self.electronics_waveform = None\n",
    "        self.digitized_waveform = None\n",
    "        \n",
    "        columns = ['primaries_file',\n",
    "                   'scintillation_photons_file',\n",
    "                   'digitized_wf_file',\n",
    "                   'n_particles',\n",
    "                   'n_photons']\n",
    "        \n",
    "        data    = [str(self.evt_idx).zfill(7) + '_primaries.csv',\n",
    "                   str(self.evt_idx).zfill(7) + '_scintillation_photons.csv',\n",
    "                   str(self.evt_idx).zfill(7) + '_digitzed_wf.csv',\n",
    "                   np.nan,\n",
    "                   np.nan]\n",
    "        \n",
    "        self.meta    = pd.Series(data, index = columns) \n",
    "    \n",
    "    def get_meta(self):\n",
    "        return self.meta\n",
    "    \n",
    "    def set_primaries(self, primaries):\n",
    "        self.primaries = primaries\n",
    "    \n",
    "    def get_primaries(self):\n",
    "        return self.particles\n",
    "    \n",
    "    def set_photons(self, photons):\n",
    "        self.scintillation_photons = photons\n",
    "    \n",
    "    def get_photons(self):\n",
    "        return self.scintillation_photons\n",
    "\n",
    "    def save_event(self, root_dir: str):\n",
    "        \"\"\" Save primary particles and scintillation photons in separate files.\"\"\"\n",
    "        \n",
    "        columns = ['particle_idx',\n",
    "                   'mother_idx',\n",
    "                   'type',\n",
    "                   'x',\n",
    "                   'y',\n",
    "                   'z',\n",
    "                   't',\n",
    "                   'v_x',\n",
    "                   'v_y',\n",
    "                   'v_z']\n",
    "        \n",
    "        # Store the primary particles\n",
    "        primaries_df = pd.DataFrame(columns = columns)\n",
    "        \n",
    "        for primary in self.primaries:\n",
    "            se = pd.Series(primary, index = columns)\n",
    "            primaries_df = primaries_df.append(se, ignore_index=True)\n",
    "\n",
    "        primaries_df.to_csv(os.path.join(root_dir, self.meta['primaries_file']))\n",
    "        \n",
    "        # Store the scintillation photons\n",
    "        photons_df = pd.DataFrame(columns = columns)\n",
    "        \n",
    "        for photon in self.scintillation_photons:\n",
    "            se = pd.Series(photon, index = columns)\n",
    "            photons_df = photons_df.append(se, ignore_index=True)\n",
    "\n",
    "        photons_df.to_csv(os.path.join(root_dir, self.meta['scintillation_photons_file']))\n",
    "        "
   ]
  },
  {
   "cell_type": "code",
   "execution_count": 264,
   "metadata": {},
   "outputs": [],
   "source": [
    "class SimulationHandler:\n",
    "    \n",
    "    def __init__(self):\n",
    "        \n",
    "        self.idx          = -1\n",
    "        self.primary_gun  = ParticleGun(ptype=0)\n",
    "        self.scintillator = Scintillator()\n",
    "        self.sipm         = SiPM()\n",
    "        self.electronics  = None\n",
    "        self.digitizer    = None\n",
    "        \n",
    "        self.events = []\n",
    "        \n",
    "        columns = ['primaries_file',\n",
    "                   'scintillation_photons_file',\n",
    "                   'digitized_wf_file',\n",
    "                   'n_particles',\n",
    "                   'n_photons']\n",
    "        \n",
    "        self.events_df = pd.DataFrame(columns = columns)\n",
    "    \n",
    "    def simulate_event(self):\n",
    "        \n",
    "        self.idx += 1\n",
    "        event = Event(self.idx)\n",
    "        primaries = self.primary_gun.generate(n=1)\n",
    "        event.set_primaries(primaries)\n",
    "        scintillation_photons = self.scintillator.generate(primaries)\n",
    "        event.set_photons(scintillation_photons)\n",
    "        sipm_wf = self.sipm.generate()\n",
    "        \n",
    "        self.events.append(event)\n",
    "        \n",
    "\n",
    "        \n",
    "#     def simulate_and_save_event(self):\n",
    "    \"\"\" TODO IMPLEMENT\"\"\"\n",
    "    \n",
    "    \n",
    "    def save_events(self, root_dir):\n",
    "        \n",
    "        for event in self.events:\n",
    "            \n",
    "            meta = event.get_meta()\n",
    "            \n",
    "            # save particle_file\n",
    "            # save photon_file\n",
    "            # save waveform_file\n",
    "            self.events_df = self.events_df.append(meta, ignore_index=True)\n",
    "            event.save_event(root_dir)\n",
    "            \n",
    "        self.events_df.to_csv(os.path.join(root_dir,'test.csv'))\n",
    "             "
   ]
  },
  {
   "cell_type": "code",
   "execution_count": 265,
   "metadata": {},
   "outputs": [],
   "source": [
    "handler = SimulationHandler()\n",
    "\n",
    "handler.simulate_event()\n",
    "handler.simulate_event()\n",
    "\n",
    "# handler.events[1].primaries\n",
    "handler.save_events(r'C:\\Users\\Miroslav Gabriel\\Workspace\\claws-neural-net-discriminator\\data\\test')"
   ]
  },
  {
   "cell_type": "code",
   "execution_count": null,
   "metadata": {},
   "outputs": [],
   "source": []
  },
  {
   "cell_type": "code",
   "execution_count": null,
   "metadata": {},
   "outputs": [],
   "source": []
  },
  {
   "cell_type": "code",
   "execution_count": null,
   "metadata": {},
   "outputs": [],
   "source": []
  }
 ],
 "metadata": {
  "kernelspec": {
   "display_name": "Python 3",
   "language": "python",
   "name": "python3"
  },
  "language_info": {
   "codemirror_mode": {
    "name": "ipython",
    "version": 3
   },
   "file_extension": ".py",
   "mimetype": "text/x-python",
   "name": "python",
   "nbconvert_exporter": "python",
   "pygments_lexer": "ipython3",
   "version": "3.7.1"
  }
 },
 "nbformat": 4,
 "nbformat_minor": 4
}
