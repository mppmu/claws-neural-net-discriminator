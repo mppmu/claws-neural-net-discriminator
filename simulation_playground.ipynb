{
 "cells": [
  {
   "cell_type": "markdown",
   "metadata": {},
   "source": [
    "# Notebook for developing code to simulate the SiPM pulses"
   ]
  },
  {
   "cell_type": "code",
   "execution_count": 1,
   "metadata": {},
   "outputs": [],
   "source": [
    "import os\n",
    "import numpy as np\n",
    "import pandas as pd"
   ]
  },
  {
   "cell_type": "code",
   "execution_count": 14,
   "metadata": {},
   "outputs": [],
   "source": [
    "class Particle:\n",
    "    \"\"\" \"\"\"\n",
    "    def __init__(self, type: str = 'MIP', pos: np.array = np.zeros(4), velocity: np.array = np.zeros(3)):\n",
    "        self.type     = type\n",
    "        self.pos      = pos\n",
    "        self.velocity = velocity\n",
    "        self.energy   = None\n",
    "    \n",
    "    \n",
    "    \n",
    "# class MIP(Particle):\n",
    "    \n",
    "    \n",
    "# class Photon(Particle):\n",
    "    "
   ]
  },
  {
   "cell_type": "code",
   "execution_count": 16,
   "metadata": {},
   "outputs": [
    {
     "ename": "AttributeError",
     "evalue": "can't set attribute",
     "output_type": "error",
     "traceback": [
      "\u001b[1;31m---------------------------------------------------------------------------\u001b[0m",
      "\u001b[1;31mAttributeError\u001b[0m                            Traceback (most recent call last)",
      "\u001b[1;32m<ipython-input-16-426977a42299>\u001b[0m in \u001b[0;36m<module>\u001b[1;34m\u001b[0m\n\u001b[1;32m----> 1\u001b[1;33m \u001b[0mmyparticle\u001b[0m \u001b[1;33m=\u001b[0m \u001b[0mParticle\u001b[0m\u001b[1;33m(\u001b[0m\u001b[1;33m)\u001b[0m\u001b[1;33m\u001b[0m\u001b[1;33m\u001b[0m\u001b[0m\n\u001b[0m\u001b[0;32m      2\u001b[0m \u001b[0mmyparticle\u001b[0m\u001b[1;33m.\u001b[0m\u001b[0mtype\u001b[0m\u001b[1;33m\u001b[0m\u001b[1;33m\u001b[0m\u001b[0m\n",
      "\u001b[1;32m<ipython-input-14-1f4bd7aebba8>\u001b[0m in \u001b[0;36m__init__\u001b[1;34m(self, type, pos, velocity)\u001b[0m\n\u001b[0;32m      2\u001b[0m     \u001b[1;34m\"\"\" \"\"\"\u001b[0m\u001b[1;33m\u001b[0m\u001b[1;33m\u001b[0m\u001b[0m\n\u001b[0;32m      3\u001b[0m     \u001b[1;32mdef\u001b[0m \u001b[0m__init__\u001b[0m\u001b[1;33m(\u001b[0m\u001b[0mself\u001b[0m\u001b[1;33m,\u001b[0m \u001b[0mtype\u001b[0m\u001b[1;33m:\u001b[0m \u001b[0mstr\u001b[0m \u001b[1;33m=\u001b[0m \u001b[1;34m'MIP'\u001b[0m\u001b[1;33m,\u001b[0m \u001b[0mpos\u001b[0m\u001b[1;33m:\u001b[0m \u001b[0mnp\u001b[0m\u001b[1;33m.\u001b[0m\u001b[0marray\u001b[0m \u001b[1;33m=\u001b[0m \u001b[0mnp\u001b[0m\u001b[1;33m.\u001b[0m\u001b[0mzeros\u001b[0m\u001b[1;33m(\u001b[0m\u001b[1;36m4\u001b[0m\u001b[1;33m)\u001b[0m\u001b[1;33m,\u001b[0m \u001b[0mvelocity\u001b[0m\u001b[1;33m:\u001b[0m \u001b[0mnp\u001b[0m\u001b[1;33m.\u001b[0m\u001b[0marray\u001b[0m \u001b[1;33m=\u001b[0m \u001b[0mnp\u001b[0m\u001b[1;33m.\u001b[0m\u001b[0mzeros\u001b[0m\u001b[1;33m(\u001b[0m\u001b[1;36m3\u001b[0m\u001b[1;33m)\u001b[0m\u001b[1;33m)\u001b[0m\u001b[1;33m:\u001b[0m\u001b[1;33m\u001b[0m\u001b[1;33m\u001b[0m\u001b[0m\n\u001b[1;32m----> 4\u001b[1;33m         \u001b[0mself\u001b[0m\u001b[1;33m.\u001b[0m\u001b[0mtype\u001b[0m     \u001b[1;33m=\u001b[0m \u001b[0mtype\u001b[0m\u001b[1;33m\u001b[0m\u001b[1;33m\u001b[0m\u001b[0m\n\u001b[0m\u001b[0;32m      5\u001b[0m         \u001b[0mself\u001b[0m\u001b[1;33m.\u001b[0m\u001b[0mpos\u001b[0m      \u001b[1;33m=\u001b[0m \u001b[0mpos\u001b[0m\u001b[1;33m\u001b[0m\u001b[1;33m\u001b[0m\u001b[0m\n\u001b[0;32m      6\u001b[0m         \u001b[0mself\u001b[0m\u001b[1;33m.\u001b[0m\u001b[0mvelocity\u001b[0m \u001b[1;33m=\u001b[0m \u001b[0mvelocity\u001b[0m\u001b[1;33m\u001b[0m\u001b[1;33m\u001b[0m\u001b[0m\n",
      "\u001b[1;31mAttributeError\u001b[0m: can't set attribute"
     ]
    }
   ],
   "source": [
    "myparticle = Particle()\n",
    "myparticle.type"
   ]
  },
  {
   "cell_type": "code",
   "execution_count": null,
   "metadata": {},
   "outputs": [],
   "source": [
    "class ParticleGun:\n",
    "    "
   ]
  },
  {
   "cell_type": "code",
   "execution_count": null,
   "metadata": {},
   "outputs": [],
   "source": []
  },
  {
   "cell_type": "code",
   "execution_count": null,
   "metadata": {},
   "outputs": [],
   "source": [
    "class Scintillator():\n",
    "    \n",
    "    def __init__():\n",
    "        \n",
    "    def process(particle: Particle = Particle()):\n",
    "        \n",
    "        return photons"
   ]
  },
  {
   "cell_type": "code",
   "execution_count": null,
   "metadata": {},
   "outputs": [],
   "source": [
    "class SiPM():\n",
    "    "
   ]
  },
  {
   "cell_type": "code",
   "execution_count": null,
   "metadata": {},
   "outputs": [],
   "source": [
    "class Electronics():\n",
    "    "
   ]
  },
  {
   "cell_type": "code",
   "execution_count": null,
   "metadata": {},
   "outputs": [],
   "source": [
    "class Digitizer():"
   ]
  },
  {
   "cell_type": "code",
   "execution_count": 94,
   "metadata": {},
   "outputs": [],
   "source": [
    "class Event():\n",
    "\n",
    "    def __init__(self, idx: int = -1):\n",
    "        self.idx = idx\n",
    "        self.particles = []\n",
    "        self.photons = []\n",
    "        self.sipm_waveform = None\n",
    "        self.electronics_waveform = None\n",
    "        self.digitized_waveform = None\n",
    "    \n",
    "    def get_meta(self):\n",
    "        \n",
    "        columns = ['particle_file',\n",
    "                   'photon_file',\n",
    "                   'digitized_wf_file',\n",
    "                   'n_particles',\n",
    "                   'n_photons']\n",
    "        \n",
    "        data    = [str(self.idx).zfill(7) + '_particles.csv',\n",
    "                   str(self.idx).zfill(7) + '_photons.csv',\n",
    "                   str(self.idx).zfill(7) + '_digitzed_wf.csv',\n",
    "                   np.nan,\n",
    "                   np.nan]\n",
    "        \n",
    "        meta    = pd.Series(data, index = columns) \n",
    "        \n",
    "        return meta\n",
    "    "
   ]
  },
  {
   "cell_type": "code",
   "execution_count": 95,
   "metadata": {},
   "outputs": [
    {
     "data": {
      "text/plain": [
       "'0000000'"
      ]
     },
     "execution_count": 95,
     "metadata": {},
     "output_type": "execute_result"
    }
   ],
   "source": [
    "str().zfill(7)"
   ]
  },
  {
   "cell_type": "code",
   "execution_count": 96,
   "metadata": {},
   "outputs": [],
   "source": [
    "class SimulationHandler:\n",
    "    \n",
    "    def __init__(self):\n",
    "        \n",
    "        self.idx          = -1\n",
    "        self.particle_gun = None\n",
    "        self.scintillator = None\n",
    "        self.sipm         = None \n",
    "        self.electronics  = None\n",
    "        self.digitizer    = None\n",
    "        \n",
    "        self.events = []\n",
    "        self.events_df = pd.DataFrame(columns = ['particle_file',\n",
    "                                                 'photon_file',\n",
    "                                                 'digitized_wf_file',\n",
    "                                                 'n_particles',\n",
    "                                                 'n_photons'])\n",
    "    \n",
    "    def simulate_event(self):\n",
    "        \n",
    "        self.idx += 1\n",
    "        event = Event(self.idx)\n",
    "   \n",
    "        self.events.append(event)\n",
    "        \n",
    "\n",
    "        \n",
    "#     def simulate_and_save_event(self):\n",
    "    \"\"\" TODO IMPLEMENT\"\"\"\n",
    "    \n",
    "    \n",
    "    def save_events(self, root_dir):\n",
    "        \n",
    "        for event in self.events:\n",
    "            meta = event.get_meta()\n",
    "            \n",
    "            # save particle_file\n",
    "            # save photon_file\n",
    "            # save waveform_file\n",
    "            self.events_df = self.events_df.append(meta, ignore_index=True)\n",
    "            \n",
    "            \n",
    "        self.events_df.to_csv(os.path.join(root_dir,'test.csv'))\n",
    "             "
   ]
  },
  {
   "cell_type": "code",
   "execution_count": 97,
   "metadata": {},
   "outputs": [],
   "source": [
    "handler = SimulationHandler()\n",
    "\n",
    "handler.simulate_event()\n",
    "handler.simulate_event()\n",
    "handler.save_events(r'C:\\Users\\Miroslav Gabriel\\Workspace\\pulseshape_discrimination\\data\\test')"
   ]
  },
  {
   "cell_type": "code",
   "execution_count": 98,
   "metadata": {},
   "outputs": [
    {
     "name": "stdout",
     "output_type": "stream",
     "text": [
      "5\n"
     ]
    }
   ],
   "source": [
    "def modify(number):\n",
    "    number = number + 1\n",
    "    \n",
    "number = 5\n",
    "\n",
    "modify(number)\n",
    "\n",
    "print(number)"
   ]
  },
  {
   "cell_type": "code",
   "execution_count": null,
   "metadata": {},
   "outputs": [],
   "source": []
  }
 ],
 "metadata": {
  "kernelspec": {
   "display_name": "Python 3",
   "language": "python",
   "name": "python3"
  },
  "language_info": {
   "codemirror_mode": {
    "name": "ipython",
    "version": 3
   },
   "file_extension": ".py",
   "mimetype": "text/x-python",
   "name": "python",
   "nbconvert_exporter": "python",
   "pygments_lexer": "ipython3",
   "version": "3.7.1"
  }
 },
 "nbformat": 4,
 "nbformat_minor": 4
}
